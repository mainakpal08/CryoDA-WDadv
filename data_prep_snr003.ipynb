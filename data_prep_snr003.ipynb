{
 "cells": [
  {
   "cell_type": "code",
   "execution_count": 18,
   "metadata": {},
   "outputs": [],
   "source": [
    "import os\n",
    "import matplotlib.pyplot as plt\n",
    "import numpy as np\n",
    "import re\n",
    "from glob import glob\n",
    "import pandas as pd\n",
    "import mrcfile\n",
    "import json\n",
    "from sklearn import preprocessing\n",
    "import h5py\n",
    "from tqdm import tqdm\n",
    "from warnings import warn\n",
    "from sklearn.model_selection import train_test_split"
   ]
  },
  {
   "cell_type": "code",
   "execution_count": 2,
   "metadata": {},
   "outputs": [
    {
     "name": "stdout",
     "output_type": "stream",
     "text": [
      "1bxn  1f1b  1yg6  2byu\t2h12  2ldb  3gl1  3hhb\t4d4r  6t3e  Untitled.ipynb\r\n"
     ]
    }
   ],
   "source": [
    "!ls"
   ]
  },
  {
   "cell_type": "code",
   "execution_count": 56,
   "metadata": {},
   "outputs": [],
   "source": [
    "snr = 'SNR003'"
   ]
  },
  {
   "cell_type": "code",
   "execution_count": 3,
   "metadata": {},
   "outputs": [],
   "source": [
    "tomo_class = ['1bxn', '1f1b', '1yg6', '2byu', '2h12', '2ldb', '3gl1', '3hhb', '4d4r', '6t3e']"
   ]
  },
  {
   "cell_type": "code",
   "execution_count": 6,
   "metadata": {},
   "outputs": [],
   "source": [
    "totClass = len(tomo_class)"
   ]
  },
  {
   "cell_type": "code",
   "execution_count": 7,
   "metadata": {},
   "outputs": [],
   "source": [
    "labels = list(range(totClass))\n",
    "label_dict = dict(zip(tomo_class, labels))"
   ]
  },
  {
   "cell_type": "code",
   "execution_count": 8,
   "metadata": {},
   "outputs": [
    {
     "data": {
      "text/plain": [
       "{'1bxn': 0,\n",
       " '1f1b': 1,\n",
       " '1yg6': 2,\n",
       " '2byu': 3,\n",
       " '2h12': 4,\n",
       " '2ldb': 5,\n",
       " '3gl1': 6,\n",
       " '3hhb': 7,\n",
       " '4d4r': 8,\n",
       " '6t3e': 9}"
      ]
     },
     "execution_count": 8,
     "metadata": {},
     "output_type": "execute_result"
    }
   ],
   "source": [
    "label_dict"
   ]
  },
  {
   "cell_type": "code",
   "execution_count": 9,
   "metadata": {},
   "outputs": [],
   "source": [
    "def read(path):\n",
    "    with mrcfile.open(path, 'r') as m:\n",
    "        header = m.header\n",
    "        data = m.data\n",
    "        assert data.ndim == 3  \n",
    "        data = data.transpose([2, 1, 0])    \n",
    "\n",
    "    return {'header':header, 'data': data}\n",
    "\n",
    "def read_mrcdata(path):\n",
    "    return read(path)['data']"
   ]
  },
  {
   "cell_type": "code",
   "execution_count": 44,
   "metadata": {},
   "outputs": [],
   "source": [
    "def read_jsondata(x):\n",
    "    with open(x) as f:\n",
    "        data = json.load(f)\n",
    "\n",
    "    c_loc = data['loc']\n",
    "    label = data['name']\n",
    "    angle = data['rotate']\n",
    "    \n",
    "    return label"
   ]
  },
  {
   "cell_type": "code",
   "execution_count": 45,
   "metadata": {},
   "outputs": [],
   "source": [
    "train_data = []\n",
    "test_data = []\n",
    "\n",
    "for class_name in tomo_class:\n",
    "    idx = np.array(range(0,500))\n",
    "    df = pd.DataFrame(idx, columns=['idx'])\n",
    "    \n",
    "    df['subtomogram_path'] = df['idx'].map(lambda x: './'+class_name+'/subtomogram_mrc/tomotarget%s.mrc' % x)\n",
    "    df['label_path'] = df['idx'].map(lambda x: './'+class_name+'/json_label/target%s.json' % x)\n",
    "    \n",
    "    class_train, class_test = train_test_split(df, test_size=0.1)\n",
    "    train_data.append(class_train)\n",
    "    test_data.append(class_test)\n",
    "    "
   ]
  },
  {
   "cell_type": "code",
   "execution_count": 46,
   "metadata": {},
   "outputs": [],
   "source": [
    "train_data = pd.concat(train_data)\n",
    "train_data.reset_index(drop=True, inplace=True)"
   ]
  },
  {
   "cell_type": "code",
   "execution_count": 47,
   "metadata": {},
   "outputs": [],
   "source": [
    "test_data = pd.concat(test_data)\n",
    "test_data.reset_index(drop=True, inplace=True)"
   ]
  },
  {
   "cell_type": "code",
   "execution_count": 48,
   "metadata": {},
   "outputs": [],
   "source": [
    "train_data['subtom'] = train_data['subtomogram_path'].map(read_mrcdata)\n",
    "train_data['class'] = train_data['label_path'].map(read_jsondata)\n",
    "\n",
    "train_data['label'] = train_data['class'].map(label_dict)\n",
    "train_data['label'] = train_data.label.astype(int)"
   ]
  },
  {
   "cell_type": "code",
   "execution_count": 51,
   "metadata": {},
   "outputs": [],
   "source": [
    "test_data['subtom'] = test_data['subtomogram_path'].map(read_mrcdata)\n",
    "test_data['class'] = test_data['label_path'].map(read_jsondata)\n",
    "\n",
    "test_data['label'] = test_data['class'].map(label_dict)\n",
    "test_data['label'] = test_data.label.astype(int)"
   ]
  },
  {
   "cell_type": "code",
   "execution_count": 52,
   "metadata": {},
   "outputs": [
    {
     "data": {
      "text/plain": [
       "7    450\n",
       "3    450\n",
       "6    450\n",
       "2    450\n",
       "9    450\n",
       "5    450\n",
       "1    450\n",
       "8    450\n",
       "4    450\n",
       "0    450\n",
       "Name: label, dtype: int64"
      ]
     },
     "execution_count": 52,
     "metadata": {},
     "output_type": "execute_result"
    }
   ],
   "source": [
    "train_data['label'].value_counts()"
   ]
  },
  {
   "cell_type": "code",
   "execution_count": 53,
   "metadata": {},
   "outputs": [
    {
     "data": {
      "text/plain": [
       "9    50\n",
       "8    50\n",
       "7    50\n",
       "6    50\n",
       "5    50\n",
       "4    50\n",
       "3    50\n",
       "2    50\n",
       "1    50\n",
       "0    50\n",
       "Name: label, dtype: int64"
      ]
     },
     "execution_count": 53,
     "metadata": {},
     "output_type": "execute_result"
    }
   ],
   "source": [
    "test_data['label'].value_counts()"
   ]
  },
  {
   "cell_type": "code",
   "execution_count": 54,
   "metadata": {},
   "outputs": [],
   "source": [
    "def write_df_as_hdf(out_path, out_df):\n",
    "    with h5py.File(out_path, 'w') as h:\n",
    "        for k, arr_dict in tqdm(out_df.to_dict().items()): \n",
    "            try:\n",
    "                s_data = np.stack(arr_dict.values(), 0)\n",
    "\n",
    "                try:\n",
    "                    h.create_dataset(k, data = s_data, compression = 'gzip')\n",
    "                except TypeError as e: \n",
    "                    try:\n",
    "                        h.create_dataset(k, data = s_data.astype(np.string_))\n",
    "                    except TypeError as e2: \n",
    "                        print('%s could not be added to hdf5, %s' % (k, repr(e), repr(e2)))\n",
    "\n",
    "            except ValueError as e:\n",
    "                print('%s could not be created, %s' % (k, repr(e)))\n",
    "                all_shape = [np.shape(x) for x in arr_dict.values()]"
   ]
  },
  {
   "cell_type": "code",
   "execution_count": 58,
   "metadata": {},
   "outputs": [
    {
     "name": "stderr",
     "output_type": "stream",
     "text": [
      "  0%|          | 0/6 [00:00<?, ?it/s]/home/mpal/anaconda3/lib/python3.6/site-packages/ipykernel_launcher.py:5: FutureWarning: arrays to stack must be passed as a \"sequence\" type such as list or tuple. Support for non-sequence iterables such as generators is deprecated as of NumPy 1.16 and will raise an error in the future.\n",
      "  \"\"\"\n",
      "100%|██████████| 6/6 [00:54<00:00,  9.09s/it]\n"
     ]
    }
   ],
   "source": [
    "write_df_as_hdf(snr+'_train.h5', train_data)"
   ]
  },
  {
   "cell_type": "code",
   "execution_count": 59,
   "metadata": {},
   "outputs": [
    {
     "name": "stderr",
     "output_type": "stream",
     "text": [
      "  0%|          | 0/6 [00:00<?, ?it/s]/home/mpal/anaconda3/lib/python3.6/site-packages/ipykernel_launcher.py:5: FutureWarning: arrays to stack must be passed as a \"sequence\" type such as list or tuple. Support for non-sequence iterables such as generators is deprecated as of NumPy 1.16 and will raise an error in the future.\n",
      "  \"\"\"\n",
      "100%|██████████| 6/6 [00:02<00:00,  2.40it/s]\n"
     ]
    }
   ],
   "source": [
    "write_df_as_hdf(snr+'_test.h5', test_data)"
   ]
  },
  {
   "cell_type": "code",
   "execution_count": null,
   "metadata": {},
   "outputs": [],
   "source": []
  }
 ],
 "metadata": {
  "kernelspec": {
   "display_name": "Python 3",
   "language": "python",
   "name": "python3"
  },
  "language_info": {
   "codemirror_mode": {
    "name": "ipython",
    "version": 3
   },
   "file_extension": ".py",
   "mimetype": "text/x-python",
   "name": "python",
   "nbconvert_exporter": "python",
   "pygments_lexer": "ipython3",
   "version": "3.6.9"
  }
 },
 "nbformat": 4,
 "nbformat_minor": 2
}
