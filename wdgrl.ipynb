{
 "cells": [
  {
   "cell_type": "code",
   "execution_count": 1,
   "metadata": {
    "cell_id": "55b5207d-5786-4483-956b-2149759ae38c"
   },
   "outputs": [],
   "source": [
    "from __future__ import print_function\n",
    "import argparse\n",
    "import os\n",
    "import random\n",
    "import torch\n",
    "import torch.nn as nn\n",
    "import torch.autograd as autograd\n",
    "import torch.optim as optim\n",
    "import torch.backends.cudnn as cudnn\n",
    "from torch.autograd import Variable\n",
    "from numpy.random import randint\n",
    "import math\n",
    "from torch.nn import functional as F\n",
    "import numpy as np\n",
    "import time\n",
    "import pdb\n",
    "from torch.autograd import grad\n",
    "import copy\n",
    "import shutil\n",
    "\n",
    "import utils\n",
    "import models"
   ]
  },
  {
   "cell_type": "code",
   "execution_count": 35,
   "metadata": {
    "cell_id": "2528c450-ec43-495c-9235-ee89b7dacccf",
    "tags": []
   },
   "outputs": [],
   "source": [
    "class opt:\n",
    "    source_train_path = 'datasets/tomodata/source_train.h5'\n",
    "    source_test_path = 'datasets/tomodata/source_test.h5'\n",
    "    target_train_path = 'datasets/tomodata/target_train.h5'\n",
    "    target_test_path = 'datasets/tomodata/target_test.h5'\n",
    "    numclass = 4\n",
    "    fet_size = 128\n",
    "    h = 400\n",
    "    nepoch = 50\n",
    "    nepoch_wdgrl = 50\n",
    "    cuda = True\n",
    "    manualSeed = 9182\n",
    "    batch_size = 32\n",
    "    tomo_dim = (32,32,32)\n",
    "    clfr_lr = 0.0001\n",
    "    critic_iter = 5\n",
    "    clfr_iter = 5\n",
    "    gamma = 10\n",
    "    wd_clf = 1\n",
    "    save_src_clfr = \"best_model/source_clfr.pt\"\n",
    "    save_tar_clfr = \"best_model/target_clfr.pt\"\n"
   ]
  },
  {
   "cell_type": "code",
   "execution_count": 36,
   "metadata": {
    "cell_id": "f4b2eb42-8918-41e5-b432-e072ee3230b4",
    "tags": []
   },
   "outputs": [
    {
     "name": "stdout",
     "output_type": "stream",
     "text": [
      "Random Seed:  9182\n"
     ]
    }
   ],
   "source": [
    "if opt.manualSeed is None:\n",
    "    opt.manualSeed = random.randint(1, 10000)\n",
    "print(\"Random Seed: \", opt.manualSeed)\n",
    "random.seed(opt.manualSeed)\n",
    "torch.manual_seed(opt.manualSeed)\n",
    "if opt.cuda:\n",
    "    torch.cuda.manual_seed_all(opt.manualSeed)\n",
    "\n",
    "cudnn.benchmark = True\n",
    "\n",
    "if torch.cuda.is_available() and not opt.cuda:\n",
    "    print(\"WARNING: You have a CUDA device, so you should probably run with --cuda\")"
   ]
  },
  {
   "cell_type": "code",
   "execution_count": 37,
   "metadata": {
    "cell_id": "3752b3f1-6f00-4c6c-8eba-cbeba0e5722b",
    "tags": []
   },
   "outputs": [
    {
     "name": "stdout",
     "output_type": "stream",
     "text": [
      "# of source training samples:  900\n",
      "# of source test samples:  100\n",
      "# of target training samples:  900\n",
      "# of target test samples:  100\n",
      "# of class:  4\n"
     ]
    }
   ],
   "source": [
    "data = utils.DATA_LOADER(opt)\n",
    "print(\"# of source training samples: \", data.source_ntrain)\n",
    "print(\"# of source test samples: \", data.source_ntest)\n",
    "print(\"# of target training samples: \", data.target_ntrain)\n",
    "print(\"# of target test samples: \", data.target_ntest)\n",
    "print(\"# of class: \", data.numclass)"
   ]
  },
  {
   "cell_type": "code",
   "execution_count": 38,
   "metadata": {
    "cell_id": "59e3bfba-8bdc-4a0f-b876-ee7fe4738250",
    "tags": []
   },
   "outputs": [
    {
     "name": "stdout",
     "output_type": "stream",
     "text": [
      "CLFR(\n",
      "  (conv1): Sequential(\n",
      "    (0): Conv3d(1, 8, kernel_size=(5, 5, 5), stride=(1, 1, 1))\n",
      "    (1): ReLU(inplace=True)\n",
      "    (2): MaxPool3d(kernel_size=1, stride=1, padding=0, dilation=1, ceil_mode=False)\n",
      "  )\n",
      "  (conv2): Sequential(\n",
      "    (0): Conv3d(8, 16, kernel_size=(5, 5, 5), stride=(1, 1, 1))\n",
      "    (1): ReLU(inplace=True)\n",
      "    (2): MaxPool3d(kernel_size=2, stride=2, padding=0, dilation=1, ceil_mode=False)\n",
      "  )\n",
      "  (conv3): Sequential(\n",
      "    (0): Conv3d(16, 32, kernel_size=(4, 4, 4), stride=(1, 1, 1))\n",
      "    (1): ReLU(inplace=True)\n",
      "  )\n",
      "  (conv4): Sequential(\n",
      "    (0): Conv3d(32, 64, kernel_size=(4, 4, 4), stride=(1, 1, 1))\n",
      "    (1): ReLU(inplace=True)\n",
      "    (2): MaxPool3d(kernel_size=2, stride=2, padding=0, dilation=1, ceil_mode=False)\n",
      "  )\n",
      "  (conv5): Sequential(\n",
      "    (0): Conv3d(64, 128, kernel_size=(2, 2, 2), stride=(1, 1, 1))\n",
      "    (1): ReLU(inplace=True)\n",
      "    (2): MaxPool3d(kernel_size=2, stride=2, padding=0, dilation=1, ceil_mode=False)\n",
      "  )\n",
      "  (hidden): Sequential(\n",
      "    (0): Linear(in_features=128, out_features=400, bias=True)\n",
      "    (1): ReLU(inplace=True)\n",
      "    (2): Dropout(p=0.5, inplace=False)\n",
      "  )\n",
      "  (feature_extractor): Sequential(\n",
      "    (0): Adjust_channel()\n",
      "    (1): Sequential(\n",
      "      (0): Conv3d(1, 8, kernel_size=(5, 5, 5), stride=(1, 1, 1))\n",
      "      (1): ReLU(inplace=True)\n",
      "      (2): MaxPool3d(kernel_size=1, stride=1, padding=0, dilation=1, ceil_mode=False)\n",
      "    )\n",
      "    (2): Sequential(\n",
      "      (0): Conv3d(8, 16, kernel_size=(5, 5, 5), stride=(1, 1, 1))\n",
      "      (1): ReLU(inplace=True)\n",
      "      (2): MaxPool3d(kernel_size=2, stride=2, padding=0, dilation=1, ceil_mode=False)\n",
      "    )\n",
      "    (3): Sequential(\n",
      "      (0): Conv3d(16, 32, kernel_size=(4, 4, 4), stride=(1, 1, 1))\n",
      "      (1): ReLU(inplace=True)\n",
      "    )\n",
      "    (4): Sequential(\n",
      "      (0): Conv3d(32, 64, kernel_size=(4, 4, 4), stride=(1, 1, 1))\n",
      "      (1): ReLU(inplace=True)\n",
      "      (2): MaxPool3d(kernel_size=2, stride=2, padding=0, dilation=1, ceil_mode=False)\n",
      "    )\n",
      "    (5): Sequential(\n",
      "      (0): Conv3d(64, 128, kernel_size=(2, 2, 2), stride=(1, 1, 1))\n",
      "      (1): ReLU(inplace=True)\n",
      "      (2): MaxPool3d(kernel_size=2, stride=2, padding=0, dilation=1, ceil_mode=False)\n",
      "    )\n",
      "    (6): Flatten()\n",
      "  )\n",
      "  (classify): Sequential(\n",
      "    (0): Sequential(\n",
      "      (0): Linear(in_features=128, out_features=400, bias=True)\n",
      "      (1): ReLU(inplace=True)\n",
      "      (2): Dropout(p=0.5, inplace=False)\n",
      "    )\n",
      "    (1): Linear(in_features=400, out_features=4, bias=True)\n",
      "  )\n",
      ")\n"
     ]
    }
   ],
   "source": [
    "source_clsfr = models.CLFR(opt)\n",
    "print(source_clsfr)"
   ]
  },
  {
   "cell_type": "code",
   "execution_count": 39,
   "metadata": {
    "cell_id": "71b5d80d-0d5e-40aa-ac0f-daff7df14616",
    "tags": []
   },
   "outputs": [],
   "source": [
    "cls_criterion = nn.CrossEntropyLoss()\n",
    "input_tomo = torch.FloatTensor(opt.batch_size, opt.tomo_dim[0], opt.tomo_dim[1], opt.tomo_dim[2])\n",
    "input_label = torch.FloatTensor(opt.batch_size)"
   ]
  },
  {
   "cell_type": "code",
   "execution_count": 40,
   "metadata": {
    "cell_id": "df64c504-8ab0-4098-9a58-cafccc33f29c",
    "tags": []
   },
   "outputs": [],
   "source": [
    "if opt.cuda :\n",
    "    source_clsfr.cuda()\n",
    "    cls_criterion.cuda()\n",
    "    input_tomo = input_tomo.cuda()\n",
    "    input_label = input_label.cuda()"
   ]
  },
  {
   "cell_type": "code",
   "execution_count": 41,
   "metadata": {
    "cell_id": "eb6463d7-d801-461d-aa2f-6c1d9ad131ad",
    "tags": []
   },
   "outputs": [],
   "source": [
    "def sample():\n",
    "    batch_tomo, batch_label = data.source_next_batch(opt.batch_size)\n",
    "    input_tomo.copy_(batch_tomo)\n",
    "    input_label.copy_(batch_label)"
   ]
  },
  {
   "cell_type": "code",
   "execution_count": 42,
   "metadata": {
    "cell_id": "60a32b58-d104-4875-801c-025ed7527f5a",
    "tags": []
   },
   "outputs": [],
   "source": [
    "optim_clfr = optim.Adam(source_clsfr.parameters(), lr=opt.clfr_lr)"
   ]
  },
  {
   "cell_type": "code",
   "execution_count": 43,
   "metadata": {
    "cell_id": "a64e809e-beaa-4c2c-b340-7adc6133ac49",
    "tags": []
   },
   "outputs": [],
   "source": [
    "def calculate_accuracy(net, tomo, label):\n",
    "    utils.set_requires_grad(net, requires_grad=False)\n",
    "    logits = net(tomo.cuda())\n",
    "    _, predicted = torch.max(logits, 1)\n",
    "    c = (predicted == label.cuda()).sum()\n",
    "    c = c.cpu().numpy()\n",
    "    acc = c / len(label)\n",
    "\n",
    "    return acc"
   ]
  },
  {
   "cell_type": "code",
   "execution_count": 44,
   "metadata": {
    "cell_id": "669a8638-f399-449b-9bcc-580af6222956",
    "output_cleared": false,
    "tags": []
   },
   "outputs": [
    {
     "name": "stdout",
     "output_type": "stream",
     "text": [
      "[0/50] clfr_loss: 1.2952 | test_acc: 0.2500\n",
      "[Source Domain]Validation Acc increased (0.0000 --> 0.2500).  Saving model ...\n",
      "[1/50] clfr_loss: 1.3515 | test_acc: 0.3300\n",
      "[Source Domain]Validation Acc increased (0.2500 --> 0.3300).  Saving model ...\n",
      "[2/50] clfr_loss: 1.1597 | test_acc: 0.3500\n",
      "[Source Domain]Validation Acc increased (0.3300 --> 0.3500).  Saving model ...\n",
      "[3/50] clfr_loss: 0.9792 | test_acc: 0.6900\n",
      "[Source Domain]Validation Acc increased (0.3500 --> 0.6900).  Saving model ...\n",
      "[4/50] clfr_loss: 0.6006 | test_acc: 0.7500\n",
      "[Source Domain]Validation Acc increased (0.6900 --> 0.7500).  Saving model ...\n",
      "[5/50] clfr_loss: 0.3575 | test_acc: 0.8600\n",
      "[Source Domain]Validation Acc increased (0.7500 --> 0.8600).  Saving model ...\n",
      "[6/50] clfr_loss: 0.3879 | test_acc: 0.8000\n",
      "[7/50] clfr_loss: 0.2301 | test_acc: 0.8700\n",
      "[Source Domain]Validation Acc increased (0.8600 --> 0.8700).  Saving model ...\n",
      "[8/50] clfr_loss: 0.0988 | test_acc: 0.8900\n",
      "[Source Domain]Validation Acc increased (0.8700 --> 0.8900).  Saving model ...\n",
      "[9/50] clfr_loss: 0.1977 | test_acc: 0.9000\n",
      "[Source Domain]Validation Acc increased (0.8900 --> 0.9000).  Saving model ...\n",
      "[10/50] clfr_loss: 0.3716 | test_acc: 0.9000\n",
      "[Source Domain]Validation Acc increased (0.9000 --> 0.9000).  Saving model ...\n",
      "[11/50] clfr_loss: 0.0376 | test_acc: 0.8800\n",
      "[12/50] clfr_loss: 0.0872 | test_acc: 0.8900\n",
      "[13/50] clfr_loss: 0.1020 | test_acc: 0.9100\n",
      "[Source Domain]Validation Acc increased (0.9000 --> 0.9100).  Saving model ...\n",
      "[14/50] clfr_loss: 0.0608 | test_acc: 0.9100\n",
      "[Source Domain]Validation Acc increased (0.9100 --> 0.9100).  Saving model ...\n",
      "[15/50] clfr_loss: 0.0556 | test_acc: 0.9200\n",
      "[Source Domain]Validation Acc increased (0.9100 --> 0.9200).  Saving model ...\n",
      "[16/50] clfr_loss: 0.0199 | test_acc: 0.8800\n",
      "[17/50] clfr_loss: 0.2403 | test_acc: 0.9000\n",
      "[18/50] clfr_loss: 0.0897 | test_acc: 0.9100\n",
      "[19/50] clfr_loss: 0.0397 | test_acc: 0.9200\n",
      "[Source Domain]Validation Acc increased (0.9200 --> 0.9200).  Saving model ...\n",
      "[20/50] clfr_loss: 0.0106 | test_acc: 0.9100\n",
      "[21/50] clfr_loss: 0.0225 | test_acc: 0.9200\n",
      "[Source Domain]Validation Acc increased (0.9200 --> 0.9200).  Saving model ...\n",
      "[22/50] clfr_loss: 0.0079 | test_acc: 0.8800\n",
      "[23/50] clfr_loss: 0.0035 | test_acc: 0.9100\n",
      "[24/50] clfr_loss: 0.0040 | test_acc: 0.9100\n",
      "[25/50] clfr_loss: 0.0139 | test_acc: 0.9300\n",
      "[Source Domain]Validation Acc increased (0.9200 --> 0.9300).  Saving model ...\n",
      "[26/50] clfr_loss: 0.0043 | test_acc: 0.9100\n",
      "[27/50] clfr_loss: 0.0043 | test_acc: 0.9200\n",
      "[28/50] clfr_loss: 0.0133 | test_acc: 0.9100\n",
      "[29/50] clfr_loss: 0.0011 | test_acc: 0.9100\n",
      "[30/50] clfr_loss: 0.0002 | test_acc: 0.9100\n",
      "[31/50] clfr_loss: 0.0003 | test_acc: 0.9300\n",
      "[Source Domain]Validation Acc increased (0.9300 --> 0.9300).  Saving model ...\n",
      "[32/50] clfr_loss: 0.0046 | test_acc: 0.9100\n",
      "[33/50] clfr_loss: 0.0049 | test_acc: 0.9100\n",
      "[34/50] clfr_loss: 0.0031 | test_acc: 0.9100\n",
      "[35/50] clfr_loss: 0.0033 | test_acc: 0.9100\n",
      "[36/50] clfr_loss: 0.0027 | test_acc: 0.9200\n",
      "[37/50] clfr_loss: 0.0035 | test_acc: 0.9100\n",
      "[38/50] clfr_loss: 0.0018 | test_acc: 0.9200\n",
      "[39/50] clfr_loss: 0.0029 | test_acc: 0.9100\n",
      "[40/50] clfr_loss: 0.0017 | test_acc: 0.9300\n",
      "[Source Domain]Validation Acc increased (0.9300 --> 0.9300).  Saving model ...\n",
      "[41/50] clfr_loss: 0.0014 | test_acc: 0.9300\n",
      "[Source Domain]Validation Acc increased (0.9300 --> 0.9300).  Saving model ...\n",
      "[42/50] clfr_loss: 0.0013 | test_acc: 0.9100\n",
      "[43/50] clfr_loss: 0.0027 | test_acc: 0.9300\n",
      "[Source Domain]Validation Acc increased (0.9300 --> 0.9300).  Saving model ...\n",
      "[44/50] clfr_loss: 0.0020 | test_acc: 0.9200\n",
      "[45/50] clfr_loss: 0.0017 | test_acc: 0.9300\n",
      "[Source Domain]Validation Acc increased (0.9300 --> 0.9300).  Saving model ...\n",
      "[46/50] clfr_loss: 0.0029 | test_acc: 0.9100\n",
      "[47/50] clfr_loss: 0.0006 | test_acc: 0.9200\n",
      "[48/50] clfr_loss: 0.0000 | test_acc: 0.9100\n",
      "[49/50] clfr_loss: 0.0006 | test_acc: 0.9200\n"
     ]
    }
   ],
   "source": [
    "best_acc = 0\n",
    "\n",
    "for epoch in range(opt.nepoch):\n",
    "    for i in range(0, data.source_ntrain, opt.batch_size):\n",
    "\n",
    "        for p in source_clsfr.parameters():\n",
    "            p.requires_grad = True\n",
    "\n",
    "        sample()\n",
    "        source_clsfr.zero_grad()\n",
    "        input_tomoV = Variable(input_tomo)\n",
    "        input_labelV = Variable(input_label.long())\n",
    "\n",
    "        logits = source_clsfr(input_tomoV)\n",
    "        loss = cls_criterion(logits, input_labelV)\n",
    "        loss.backward()\n",
    "        optim_clfr.step()\n",
    "\n",
    "    source_clsfr.eval()\n",
    "    acc = calculate_accuracy(net=source_clsfr, tomo=data.source_test_subtom, label=data.source_test_label)\n",
    "    print('[%d/%d] clfr_loss: %.4f | test_acc: %.4f'% (epoch, opt.nepoch, loss.item(),acc))\n",
    "\n",
    "    if acc >= best_acc:\n",
    "        print('[Source Domain]Validation Acc increased ({:.4f} --> {:.4f}).  Saving model ...'.format(best_acc,acc))\n",
    "        torch.save(source_clsfr.state_dict(), opt.save_src_clfr)\n",
    "        best_acc = acc\n",
    "\n",
    "    source_clsfr.train()"
   ]
  },
  {
   "cell_type": "code",
   "execution_count": 45,
   "metadata": {
    "cell_id": "fc2fc98c-dc44-42e1-ba33-df7c71f4643c",
    "tags": []
   },
   "outputs": [
    {
     "data": {
      "text/plain": [
       "<All keys matched successfully>"
      ]
     },
     "execution_count": 45,
     "metadata": {},
     "output_type": "execute_result"
    }
   ],
   "source": [
    "target_clsfr = models.CLFR(opt)\n",
    "target_clsfr.load_state_dict(torch.load(opt.save_src_clfr))"
   ]
  },
  {
   "cell_type": "code",
   "execution_count": 46,
   "metadata": {
    "cell_id": "1a4f949b-7188-457d-9e41-5a5e83038f81",
    "tags": []
   },
   "outputs": [],
   "source": [
    "device = torch.device('cuda' if torch.cuda.is_available() else 'cpu')"
   ]
  },
  {
   "cell_type": "code",
   "execution_count": 47,
   "metadata": {
    "cell_id": "63d6e3be-454b-4ab1-8334-1895790e8fb3",
    "tags": []
   },
   "outputs": [],
   "source": [
    "def gradient_penalty(critic, h_s, h_t):\n",
    "    # based on: https://github.com/caogang/wgan-gp/blob/master/gan_cifar10.py#L116\n",
    "    alpha = torch.rand(h_s.size(0), 1).to(device)\n",
    "    differences = h_t - h_s\n",
    "    interpolates = h_s + (alpha * differences)\n",
    "    interpolates = torch.stack([interpolates, h_s, h_t]).requires_grad_()\n",
    "\n",
    "    preds = critic(interpolates)\n",
    "    gradients = grad(preds, interpolates,\n",
    "                     grad_outputs=torch.ones_like(preds),\n",
    "                     retain_graph=True, create_graph=True)[0]\n",
    "    gradient_norm = gradients.norm(2, dim=1)\n",
    "    gradient_penalty = ((gradient_norm - 1)**2).mean()\n",
    "    return gradient_penalty"
   ]
  },
  {
   "cell_type": "code",
   "execution_count": 48,
   "metadata": {
    "cell_id": "73287968-c2b7-41da-accf-3e5d43054a36",
    "tags": []
   },
   "outputs": [
    {
     "name": "stdout",
     "output_type": "stream",
     "text": [
      "CRITIC(\n",
      "  (critic_block): Sequential(\n",
      "    (0): Linear(in_features=128, out_features=50, bias=True)\n",
      "    (1): ReLU(inplace=True)\n",
      "    (2): Linear(in_features=50, out_features=20, bias=True)\n",
      "    (3): ReLU(inplace=True)\n",
      "    (4): Linear(in_features=20, out_features=1, bias=True)\n",
      "  )\n",
      ")\n"
     ]
    }
   ],
   "source": [
    "critic = models.CRITIC(opt)\n",
    "print(critic)"
   ]
  },
  {
   "cell_type": "code",
   "execution_count": 49,
   "metadata": {
    "cell_id": "fcc1ed63-988b-4379-bece-d38b3c051ce2",
    "tags": []
   },
   "outputs": [],
   "source": [
    "critic_optim = torch.optim.Adam(critic.parameters(), lr=1e-4)\n",
    "clf_optim = torch.optim.Adam(target_clsfr.parameters(), lr=opt.clfr_lr)"
   ]
  },
  {
   "cell_type": "code",
   "execution_count": 50,
   "metadata": {
    "cell_id": "83fb4e4a-3ccb-4f83-a2cc-36fddb11d483",
    "tags": []
   },
   "outputs": [],
   "source": [
    "clf_criterion = nn.CrossEntropyLoss()\n",
    "source_tomo = torch.FloatTensor(opt.batch_size, opt.tomo_dim[0], opt.tomo_dim[1], opt.tomo_dim[2])\n",
    "source_label = torch.FloatTensor(opt.batch_size)\n",
    "target_tomo = torch.FloatTensor(opt.batch_size, opt.tomo_dim[0], opt.tomo_dim[1], opt.tomo_dim[2])"
   ]
  },
  {
   "cell_type": "code",
   "execution_count": 51,
   "metadata": {
    "cell_id": "58772810-f571-44b6-8f78-57aa13ef93e1",
    "tags": []
   },
   "outputs": [],
   "source": [
    "if opt.cuda :\n",
    "    critic.cuda()\n",
    "    target_clsfr.cuda()\n",
    "    clf_criterion.cuda()\n",
    "    source_tomo = source_tomo.cuda()\n",
    "    source_label = source_label.cuda()\n",
    "    target_tomo = target_tomo.cuda()"
   ]
  },
  {
   "cell_type": "code",
   "execution_count": 52,
   "metadata": {
    "cell_id": "330c1db7-cf16-413d-a81f-a0f744a14cef",
    "tags": []
   },
   "outputs": [],
   "source": [
    "def both_sample():\n",
    "    source_batch_tomo, source_batch_label = data.source_next_batch(opt.batch_size)\n",
    "    source_tomo.copy_(source_batch_tomo)\n",
    "    source_label.copy_(source_batch_label)\n",
    "    target_batch_tomo, _ = data.target_next_batch(opt.batch_size)\n",
    "    target_tomo.copy_(target_batch_tomo)"
   ]
  },
  {
   "cell_type": "code",
   "execution_count": 53,
   "metadata": {
    "cell_id": "f5f4b8dc-42df-4116-a1a4-644fa2dc139b",
    "output_cleared": false,
    "tags": []
   },
   "outputs": [
    {
     "name": "stdout",
     "output_type": "stream",
     "text": [
      "[0/50] critic_cost: 9.7152 | w_dist: -1.0730 | clf_loss: -1.5050 | tar_acc: 0.9500\n",
      "[Target Domain]Validation Acc increased (0.0000 --> 0.9500).  Saving model ...\n",
      "[1/50] critic_cost: 9.9984 | w_dist: -1.4331 | clf_loss: -2.3616 | tar_acc: 0.9500\n",
      "[Target Domain]Validation Acc increased (0.9500 --> 0.9500).  Saving model ...\n",
      "[2/50] critic_cost: 9.2756 | w_dist: -0.0461 | clf_loss: -0.0629 | tar_acc: 0.8400\n",
      "[3/50] critic_cost: 9.0736 | w_dist: 0.1228 | clf_loss: 0.0421 | tar_acc: 0.9600\n",
      "[Target Domain]Validation Acc increased (0.9500 --> 0.9600).  Saving model ...\n",
      "[4/50] critic_cost: 8.6616 | w_dist: 0.2328 | clf_loss: 0.0546 | tar_acc: 0.9100\n",
      "[5/50] critic_cost: 9.9069 | w_dist: -0.9794 | clf_loss: -1.1483 | tar_acc: 0.9400\n",
      "[6/50] critic_cost: 9.7781 | w_dist: -0.3164 | clf_loss: -0.4664 | tar_acc: 0.8700\n",
      "[7/50] critic_cost: 10.0536 | w_dist: -0.7349 | clf_loss: -0.8154 | tar_acc: 0.8500\n",
      "[8/50] critic_cost: 9.0269 | w_dist: 0.4072 | clf_loss: 0.2051 | tar_acc: 0.9100\n",
      "[9/50] critic_cost: 9.3458 | w_dist: 0.0006 | clf_loss: -0.1483 | tar_acc: 0.8700\n",
      "[10/50] critic_cost: 9.9897 | w_dist: -0.5817 | clf_loss: -0.5518 | tar_acc: 0.9200\n",
      "[11/50] critic_cost: 9.1564 | w_dist: 0.4642 | clf_loss: 0.3480 | tar_acc: 0.9600\n",
      "[Target Domain]Validation Acc increased (0.9600 --> 0.9600).  Saving model ...\n",
      "[12/50] critic_cost: 10.5147 | w_dist: -0.9588 | clf_loss: -1.2882 | tar_acc: 0.9500\n",
      "[13/50] critic_cost: 11.2007 | w_dist: -1.7048 | clf_loss: -1.4203 | tar_acc: 0.7900\n",
      "[14/50] critic_cost: 8.5124 | w_dist: 0.9496 | clf_loss: 0.1900 | tar_acc: 0.8700\n",
      "[15/50] critic_cost: 10.1503 | w_dist: -0.3867 | clf_loss: -0.4757 | tar_acc: 0.9700\n",
      "[Target Domain]Validation Acc increased (0.9600 --> 0.9700).  Saving model ...\n",
      "[16/50] critic_cost: 10.0753 | w_dist: -0.2401 | clf_loss: -0.2239 | tar_acc: 0.9400\n",
      "[17/50] critic_cost: 9.9897 | w_dist: -0.0819 | clf_loss: -0.0991 | tar_acc: 0.9700\n",
      "[Target Domain]Validation Acc increased (0.9700 --> 0.9700).  Saving model ...\n",
      "[18/50] critic_cost: 7.9532 | w_dist: 1.6023 | clf_loss: 1.4279 | tar_acc: 0.9200\n",
      "[19/50] critic_cost: 7.9590 | w_dist: 1.0367 | clf_loss: -0.3773 | tar_acc: 0.8900\n",
      "[20/50] critic_cost: 10.3500 | w_dist: -0.7239 | clf_loss: -1.0866 | tar_acc: 0.8900\n",
      "[21/50] critic_cost: 9.1403 | w_dist: 0.6014 | clf_loss: 0.5366 | tar_acc: 0.9400\n",
      "[22/50] critic_cost: 10.7964 | w_dist: -1.0695 | clf_loss: -1.3893 | tar_acc: 0.9100\n",
      "[23/50] critic_cost: 11.0366 | w_dist: -1.3437 | clf_loss: -1.7963 | tar_acc: 0.9400\n",
      "[24/50] critic_cost: 9.7292 | w_dist: -0.0418 | clf_loss: -0.6390 | tar_acc: 0.9200\n",
      "[25/50] critic_cost: 13.1339 | w_dist: -3.3474 | clf_loss: -3.5666 | tar_acc: 0.8800\n",
      "[26/50] critic_cost: 11.1404 | w_dist: -1.2571 | clf_loss: -1.3321 | tar_acc: 0.8900\n",
      "[27/50] critic_cost: 9.7621 | w_dist: 0.1350 | clf_loss: 0.0534 | tar_acc: 0.9400\n",
      "[28/50] critic_cost: 10.0000 | w_dist: 0.0000 | clf_loss: 0.0000 | tar_acc: 0.9800\n",
      "[Target Domain]Validation Acc increased (0.9700 --> 0.9800).  Saving model ...\n",
      "[29/50] critic_cost: 9.9797 | w_dist: 0.0136 | clf_loss: 0.0092 | tar_acc: 0.9100\n",
      "[30/50] critic_cost: 9.9956 | w_dist: -0.0030 | clf_loss: -0.0066 | tar_acc: 0.9400\n",
      "[31/50] critic_cost: 10.0000 | w_dist: 0.0000 | clf_loss: 0.0000 | tar_acc: 0.9600\n",
      "[32/50] critic_cost: 10.0000 | w_dist: 0.0000 | clf_loss: 0.0000 | tar_acc: 0.9600\n",
      "[33/50] critic_cost: 10.0000 | w_dist: 0.0000 | clf_loss: 0.0000 | tar_acc: 0.9400\n",
      "[34/50] critic_cost: 9.9963 | w_dist: -0.0044 | clf_loss: -0.0047 | tar_acc: 0.9900\n",
      "[Target Domain]Validation Acc increased (0.9800 --> 0.9900).  Saving model ...\n",
      "[35/50] critic_cost: 10.0000 | w_dist: 0.0000 | clf_loss: 0.0000 | tar_acc: 0.9500\n",
      "[36/50] critic_cost: 10.0000 | w_dist: 0.0000 | clf_loss: 0.0000 | tar_acc: 0.9500\n",
      "[37/50] critic_cost: 10.0000 | w_dist: 0.0000 | clf_loss: 0.0000 | tar_acc: 0.9600\n",
      "[38/50] critic_cost: 10.0000 | w_dist: 0.0000 | clf_loss: 0.0000 | tar_acc: 0.9500\n",
      "[39/50] critic_cost: 10.0000 | w_dist: 0.0000 | clf_loss: 0.0000 | tar_acc: 0.9400\n",
      "[40/50] critic_cost: 10.0000 | w_dist: 0.0000 | clf_loss: 0.0000 | tar_acc: 0.9800\n",
      "[41/50] critic_cost: 10.0000 | w_dist: 0.0000 | clf_loss: 0.0000 | tar_acc: 0.9500\n",
      "[42/50] critic_cost: 10.0000 | w_dist: 0.0000 | clf_loss: 0.0000 | tar_acc: 0.9500\n",
      "[43/50] critic_cost: 10.0000 | w_dist: 0.0000 | clf_loss: 0.0000 | tar_acc: 0.9500\n",
      "[44/50] critic_cost: 10.0000 | w_dist: 0.0000 | clf_loss: 0.0000 | tar_acc: 0.9700\n",
      "[45/50] critic_cost: 10.0000 | w_dist: 0.0000 | clf_loss: 0.0000 | tar_acc: 0.9300\n",
      "[46/50] critic_cost: 10.0000 | w_dist: 0.0000 | clf_loss: 0.0000 | tar_acc: 0.9300\n",
      "[47/50] critic_cost: 10.0000 | w_dist: 0.0000 | clf_loss: 0.0000 | tar_acc: 0.9600\n",
      "[48/50] critic_cost: 10.0000 | w_dist: 0.0000 | clf_loss: 0.0000 | tar_acc: 0.9400\n",
      "[49/50] critic_cost: 10.0000 | w_dist: 0.0000 | clf_loss: 0.0013 | tar_acc: 0.9100\n"
     ]
    }
   ],
   "source": [
    "best_acc = 0\n",
    "\n",
    "for epoch in range(opt.nepoch_wdgrl):\n",
    "    for i in range(0, data.source_ntrain, opt.batch_size):\n",
    "        both_sample()\n",
    "\n",
    "        #train critic\n",
    "        utils.set_requires_grad(critic, requires_grad=True)\n",
    "        utils.set_requires_grad(target_clsfr, requires_grad=False)\n",
    "\n",
    "        with torch.no_grad():\n",
    "            h_s = target_clsfr.feature_extractor(source_tomo)\n",
    "            h_t = target_clsfr.feature_extractor(target_tomo)\n",
    "        \n",
    "        for _ in range(opt.critic_iter):\n",
    "            gp = gradient_penalty(critic, h_s, h_t)\n",
    "            critic_s = critic(h_s)\n",
    "            critic_t = critic(h_t)\n",
    "            wasserstein_distance = critic_s.mean() - critic_t.mean()\n",
    "            critic_cost = -wasserstein_distance + opt.gamma*gp\n",
    "\n",
    "            critic_optim.zero_grad()\n",
    "            critic_cost.backward()\n",
    "            critic_optim.step()\n",
    "\n",
    "        #train classifier\n",
    "        utils.set_requires_grad(critic, requires_grad=False)\n",
    "        utils.set_requires_grad(target_clsfr, requires_grad=True)\n",
    "\n",
    "        for _ in range(opt.clfr_iter):\n",
    "            source_features = target_clsfr.feature_extractor(source_tomo)\n",
    "            target_features = target_clsfr.feature_extractor(target_tomo)\n",
    "\n",
    "            source_preds = target_clsfr.classify(source_features)\n",
    "            clf_loss = clf_criterion(source_preds, source_label.long())\n",
    "\n",
    "            w_dist = critic(source_features).mean() - critic(target_features).mean()\n",
    "            loss = clf_loss + opt.wd_clf*w_dist\n",
    "\n",
    "            clf_optim.zero_grad()\n",
    "            loss.backward()\n",
    "            clf_optim.step()\n",
    "\n",
    "    target_clsfr.eval()\n",
    "\n",
    "    target_batch_tomo, target_batch_label = data.target_next_batch(100)\n",
    "    tar_acc = calculate_accuracy(net=target_clsfr, tomo=target_batch_tomo, label=target_batch_label)\n",
    "\n",
    "    print('[%d/%d] critic_cost: %.4f | w_dist: %.4f | clf_loss: %.4f | tar_acc: %.4f'% (epoch, opt.nepoch_wdgrl, critic_cost.item(), wasserstein_distance.item(), loss.item(), tar_acc))\n",
    "\n",
    "    if tar_acc >= best_acc:\n",
    "        print('[Target Domain]Validation Acc increased ({:.4f} --> {:.4f}).  Saving model ...'.format(best_acc,tar_acc))\n",
    "        torch.save(target_clsfr.state_dict(), opt.save_tar_clfr)\n",
    "        best_acc = tar_acc\n",
    "\n",
    "    target_clsfr.train()\n",
    "        \n"
   ]
  },
  {
   "cell_type": "code",
   "execution_count": 0,
   "metadata": {
    "cell_id": "33874c55-5181-4a8f-8d6d-c6f541420428",
    "tags": []
   },
   "outputs": [],
   "source": []
  },
  {
   "cell_type": "code",
   "execution_count": null,
   "metadata": {
    "cell_id": "3d126b45-5006-42bc-900e-d6268de0d69c",
    "tags": []
   },
   "outputs": [],
   "source": []
  }
 ],
 "metadata": {
  "deepnote_execution_queue": [],
  "deepnote_notebook_id": "4f452e62-9b37-49f4-a557-523488edc622",
  "kernelspec": {
   "display_name": "Python 3",
   "language": "python",
   "name": "python3"
  },
  "language_info": {
   "codemirror_mode": {
    "name": "ipython",
    "version": 3
   },
   "file_extension": ".py",
   "mimetype": "text/x-python",
   "name": "python",
   "nbconvert_exporter": "python",
   "pygments_lexer": "ipython3",
   "version": "3.7.4"
  }
 },
 "nbformat": 4,
 "nbformat_minor": 2
}
