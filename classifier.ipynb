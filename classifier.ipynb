{
 "cells": [
  {
   "cell_type": "code",
   "execution_count": 1,
   "metadata": {
    "cell_id": "55b5207d-5786-4483-956b-2149759ae38c"
   },
   "outputs": [],
   "source": [
    "from __future__ import print_function\n",
    "import argparse\n",
    "import os\n",
    "import random\n",
    "import torch\n",
    "import torch.nn as nn\n",
    "import torch.autograd as autograd\n",
    "import torch.optim as optim\n",
    "import torch.backends.cudnn as cudnn\n",
    "from torch.autograd import Variable\n",
    "from numpy.random import randint\n",
    "import math\n",
    "from torch.nn import functional as F\n",
    "import numpy as np\n",
    "import time\n",
    "import pdb\n",
    "\n",
    "import utils\n",
    "import models"
   ]
  },
  {
   "cell_type": "code",
   "execution_count": 2,
   "metadata": {
    "cell_id": "2528c450-ec43-495c-9235-ee89b7dacccf",
    "tags": []
   },
   "outputs": [],
   "source": [
    "class opt:\n",
    "    train_path = '/datasets/tomodata/source_train.h5'\n",
    "    test_path = '/datasets/tomodata/source_test.h5'\n",
    "    numclass = 4\n",
    "    fet_size = 400\n",
    "    nepoch = 100\n",
    "    cuda = True\n",
    "    manualSeed = 9182\n",
    "    batch_size = 32\n",
    "    tomo_dim = (32,32,32)\n",
    "    clfr_lr = 0.0001"
   ]
  },
  {
   "cell_type": "code",
   "execution_count": 3,
   "metadata": {
    "cell_id": "f4b2eb42-8918-41e5-b432-e072ee3230b4",
    "tags": []
   },
   "outputs": [
    {
     "name": "stdout",
     "output_type": "stream",
     "text": [
      "Random Seed:  9182\n"
     ]
    }
   ],
   "source": [
    "if opt.manualSeed is None:\n",
    "    opt.manualSeed = random.randint(1, 10000)\n",
    "print(\"Random Seed: \", opt.manualSeed)\n",
    "random.seed(opt.manualSeed)\n",
    "torch.manual_seed(opt.manualSeed)\n",
    "if opt.cuda:\n",
    "    torch.cuda.manual_seed_all(opt.manualSeed)\n",
    "\n",
    "cudnn.benchmark = True\n",
    "\n",
    "if torch.cuda.is_available() and not opt.cuda:\n",
    "    print(\"WARNING: You have a CUDA device, so you should probably run with --cuda\")"
   ]
  },
  {
   "cell_type": "code",
   "execution_count": 4,
   "metadata": {
    "cell_id": "3752b3f1-6f00-4c6c-8eba-cbeba0e5722b",
    "tags": []
   },
   "outputs": [
    {
     "name": "stdout",
     "output_type": "stream",
     "text": [
      "# of training samples:  900\n",
      "# of test samples:  100\n",
      "# of class:  4\n"
     ]
    }
   ],
   "source": [
    "data = utils.DATA_LOADER(opt)\n",
    "print(\"# of training samples: \", data.ntrain)\n",
    "print(\"# of test samples: \", data.ntest)\n",
    "print(\"# of class: \", data.numclass)"
   ]
  },
  {
   "cell_type": "code",
   "execution_count": 5,
   "metadata": {
    "cell_id": "59e3bfba-8bdc-4a0f-b876-ee7fe4738250",
    "tags": []
   },
   "outputs": [
    {
     "name": "stdout",
     "output_type": "stream",
     "text": [
      "src_CLFR(\n",
      "  (conv1): Sequential(\n",
      "    (0): Conv3d(1, 8, kernel_size=(5, 5, 5), stride=(1, 1, 1))\n",
      "    (1): ReLU(inplace=True)\n",
      "    (2): MaxPool3d(kernel_size=1, stride=1, padding=0, dilation=1, ceil_mode=False)\n",
      "  )\n",
      "  (conv2): Sequential(\n",
      "    (0): Conv3d(8, 16, kernel_size=(5, 5, 5), stride=(1, 1, 1))\n",
      "    (1): ReLU(inplace=True)\n",
      "    (2): MaxPool3d(kernel_size=2, stride=2, padding=0, dilation=1, ceil_mode=False)\n",
      "  )\n",
      "  (conv3): Sequential(\n",
      "    (0): Conv3d(16, 32, kernel_size=(4, 4, 4), stride=(1, 1, 1))\n",
      "    (1): ReLU(inplace=True)\n",
      "  )\n",
      "  (conv4): Sequential(\n",
      "    (0): Conv3d(32, 64, kernel_size=(4, 4, 4), stride=(1, 1, 1))\n",
      "    (1): ReLU(inplace=True)\n",
      "    (2): MaxPool3d(kernel_size=2, stride=2, padding=0, dilation=1, ceil_mode=False)\n",
      "  )\n",
      "  (conv5): Sequential(\n",
      "    (0): Conv3d(64, 128, kernel_size=(2, 2, 2), stride=(1, 1, 1))\n",
      "    (1): ReLU(inplace=True)\n",
      "    (2): MaxPool3d(kernel_size=2, stride=2, padding=0, dilation=1, ceil_mode=False)\n",
      "  )\n",
      "  (final): Sequential(\n",
      "    (0): Linear(in_features=128, out_features=400, bias=True)\n",
      "    (1): ReLU(inplace=True)\n",
      "    (2): Dropout(p=0.5, inplace=False)\n",
      "  )\n",
      "  (classify): Linear(in_features=400, out_features=4, bias=True)\n",
      ")\n"
     ]
    }
   ],
   "source": [
    "source_clsfr = models.src_CLFR(opt)\n",
    "print(source_clsfr)"
   ]
  },
  {
   "cell_type": "code",
   "execution_count": 6,
   "metadata": {
    "cell_id": "71b5d80d-0d5e-40aa-ac0f-daff7df14616",
    "tags": []
   },
   "outputs": [],
   "source": [
    "cls_criterion = nn.CrossEntropyLoss()\n",
    "input_feature = torch.FloatTensor(opt.batch_size, opt.tomo_dim[0], opt.tomo_dim[1], opt.tomo_dim[2])\n",
    "input_label = torch.FloatTensor(opt.batch_size)"
   ]
  },
  {
   "cell_type": "code",
   "execution_count": 7,
   "metadata": {
    "cell_id": "df64c504-8ab0-4098-9a58-cafccc33f29c",
    "tags": []
   },
   "outputs": [],
   "source": [
    "if opt.cuda :\n",
    "    source_clsfr.cuda()\n",
    "    cls_criterion.cuda()\n",
    "    input_feature.cuda()\n",
    "    input_label.cuda()"
   ]
  },
  {
   "cell_type": "code",
   "execution_count": 8,
   "metadata": {
    "cell_id": "eb6463d7-d801-461d-aa2f-6c1d9ad131ad",
    "tags": []
   },
   "outputs": [],
   "source": [
    "def sample():\n",
    "    batch_feature, batch_label = data.next_batch(opt.batch_size)\n",
    "    input_feature.copy_(batch_feature)\n",
    "    input_label.copy_(batch_label)"
   ]
  },
  {
   "cell_type": "code",
   "execution_count": 9,
   "metadata": {
    "cell_id": "60a32b58-d104-4875-801c-025ed7527f5a",
    "tags": []
   },
   "outputs": [],
   "source": [
    "optim_clfr = optim.Adam(source_clsfr.parameters(), lr=opt.clfr_lr)"
   ]
  },
  {
   "cell_type": "code",
   "execution_count": 11,
   "metadata": {
    "cell_id": "669a8638-f399-449b-9bcc-580af6222956",
    "tags": []
   },
   "outputs": [
    {
     "name": "stdout",
     "output_type": "stream",
     "text": [
      "[0/100] clfr_loss: 1.3680 | test_acc: 0.3900\n",
      "[1/100] clfr_loss: 1.0357 | test_acc: 0.4600\n",
      "[2/100] clfr_loss: 0.8219 | test_acc: 0.6300\n",
      "[3/100] clfr_loss: 0.7664 | test_acc: 0.8400\n",
      "[4/100] clfr_loss: 0.5138 | test_acc: 0.8100\n",
      "[5/100] clfr_loss: 0.3538 | test_acc: 0.8100\n",
      "[6/100] clfr_loss: 0.2404 | test_acc: 0.8700\n",
      "[7/100] clfr_loss: 0.1307 | test_acc: 0.8500\n",
      "[8/100] clfr_loss: 0.1724 | test_acc: 0.9200\n",
      "[9/100] clfr_loss: 0.1426 | test_acc: 0.9100\n",
      "[10/100] clfr_loss: 0.0219 | test_acc: 0.9100\n",
      "[11/100] clfr_loss: 0.1987 | test_acc: 0.9100\n",
      "[12/100] clfr_loss: 0.0825 | test_acc: 0.9300\n",
      "[13/100] clfr_loss: 0.0216 | test_acc: 0.9000\n",
      "[14/100] clfr_loss: 0.0388 | test_acc: 0.9100\n",
      "[15/100] clfr_loss: 0.0186 | test_acc: 0.9100\n",
      "[16/100] clfr_loss: 0.2554 | test_acc: 0.9400\n",
      "[17/100] clfr_loss: 0.1323 | test_acc: 0.8900\n",
      "[18/100] clfr_loss: 0.0482 | test_acc: 0.9200\n",
      "[19/100] clfr_loss: 0.0077 | test_acc: 0.9300\n",
      "[20/100] clfr_loss: 0.0382 | test_acc: 0.9100\n",
      "[21/100] clfr_loss: 0.0023 | test_acc: 0.9300\n",
      "[22/100] clfr_loss: 0.0022 | test_acc: 0.9200\n",
      "[23/100] clfr_loss: 0.0030 | test_acc: 0.9100\n",
      "[24/100] clfr_loss: 0.0216 | test_acc: 0.9000\n",
      "[25/100] clfr_loss: 0.0047 | test_acc: 0.9300\n",
      "[26/100] clfr_loss: 0.0088 | test_acc: 0.9200\n",
      "[27/100] clfr_loss: 0.0028 | test_acc: 0.9200\n",
      "[28/100] clfr_loss: 0.0099 | test_acc: 0.9000\n",
      "[29/100] clfr_loss: 0.0012 | test_acc: 0.9200\n",
      "[30/100] clfr_loss: 0.0012 | test_acc: 0.9200\n",
      "[31/100] clfr_loss: 0.0018 | test_acc: 0.9300\n",
      "[32/100] clfr_loss: 0.0012 | test_acc: 0.9300\n",
      "[33/100] clfr_loss: 0.0005 | test_acc: 0.9300\n",
      "[34/100] clfr_loss: 0.0018 | test_acc: 0.9200\n",
      "[35/100] clfr_loss: 0.0002 | test_acc: 0.9100\n",
      "[36/100] clfr_loss: 0.1190 | test_acc: 0.9300\n",
      "[37/100] clfr_loss: 0.0244 | test_acc: 0.9000\n",
      "[38/100] clfr_loss: 0.0111 | test_acc: 0.9300\n",
      "[39/100] clfr_loss: 0.0132 | test_acc: 0.9200\n",
      "[40/100] clfr_loss: 0.0017 | test_acc: 0.9300\n",
      "[41/100] clfr_loss: 0.0014 | test_acc: 0.9100\n",
      "[42/100] clfr_loss: 0.0024 | test_acc: 0.9300\n",
      "[43/100] clfr_loss: 0.0111 | test_acc: 0.8700\n",
      "[44/100] clfr_loss: 0.0021 | test_acc: 0.9200\n",
      "[45/100] clfr_loss: 0.0047 | test_acc: 0.9200\n",
      "[46/100] clfr_loss: 0.0020 | test_acc: 0.9300\n",
      "[47/100] clfr_loss: 0.0009 | test_acc: 0.9200\n",
      "[48/100] clfr_loss: 0.0044 | test_acc: 0.9200\n",
      "[49/100] clfr_loss: 0.0008 | test_acc: 0.9200\n",
      "[50/100] clfr_loss: 0.0004 | test_acc: 0.9200\n",
      "[51/100] clfr_loss: 0.0010 | test_acc: 0.9200\n",
      "[52/100] clfr_loss: 0.0243 | test_acc: 0.8800\n",
      "[53/100] clfr_loss: 0.0872 | test_acc: 0.8300\n",
      "[54/100] clfr_loss: 0.0302 | test_acc: 0.9100\n",
      "[55/100] clfr_loss: 0.0078 | test_acc: 0.9400\n",
      "[56/100] clfr_loss: 0.0071 | test_acc: 0.9300\n",
      "[57/100] clfr_loss: 0.0011 | test_acc: 0.9300\n",
      "[58/100] clfr_loss: 0.0040 | test_acc: 0.9300\n",
      "[59/100] clfr_loss: 0.0018 | test_acc: 0.9300\n",
      "[60/100] clfr_loss: 0.0011 | test_acc: 0.9400\n",
      "[61/100] clfr_loss: 0.0021 | test_acc: 0.9400\n",
      "[62/100] clfr_loss: 0.0018 | test_acc: 0.9400\n",
      "[63/100] clfr_loss: 0.0003 | test_acc: 0.9500\n",
      "[64/100] clfr_loss: 0.0003 | test_acc: 0.9400\n",
      "[65/100] clfr_loss: 0.0004 | test_acc: 0.9500\n",
      "[66/100] clfr_loss: 0.0015 | test_acc: 0.9400\n",
      "[67/100] clfr_loss: 0.0004 | test_acc: 0.9400\n",
      "[68/100] clfr_loss: 0.0000 | test_acc: 0.9400\n",
      "[69/100] clfr_loss: 0.0002 | test_acc: 0.9400\n",
      "[70/100] clfr_loss: 0.0006 | test_acc: 0.9400\n",
      "[71/100] clfr_loss: 0.0002 | test_acc: 0.9500\n",
      "[72/100] clfr_loss: 0.0002 | test_acc: 0.9500\n",
      "[73/100] clfr_loss: 0.0005 | test_acc: 0.9500\n",
      "[74/100] clfr_loss: 0.0003 | test_acc: 0.9500\n",
      "[75/100] clfr_loss: 0.0002 | test_acc: 0.9400\n",
      "[76/100] clfr_loss: 0.0003 | test_acc: 0.9400\n",
      "[77/100] clfr_loss: 0.0002 | test_acc: 0.9400\n",
      "[78/100] clfr_loss: 0.0002 | test_acc: 0.9300\n",
      "[79/100] clfr_loss: 0.0000 | test_acc: 0.9400\n",
      "[80/100] clfr_loss: 0.0002 | test_acc: 0.9300\n",
      "[81/100] clfr_loss: 0.0004 | test_acc: 0.9300\n",
      "[82/100] clfr_loss: 0.0000 | test_acc: 0.9400\n",
      "[83/100] clfr_loss: 0.0002 | test_acc: 0.9400\n",
      "[84/100] clfr_loss: 0.0002 | test_acc: 0.9300\n",
      "[85/100] clfr_loss: 0.0002 | test_acc: 0.9400\n",
      "[86/100] clfr_loss: 0.0003 | test_acc: 0.9300\n",
      "[87/100] clfr_loss: 0.0001 | test_acc: 0.9300\n",
      "[88/100] clfr_loss: 0.0000 | test_acc: 0.9400\n",
      "[89/100] clfr_loss: 0.0001 | test_acc: 0.9400\n",
      "[90/100] clfr_loss: 0.0000 | test_acc: 0.9400\n",
      "[91/100] clfr_loss: 0.0001 | test_acc: 0.9400\n",
      "[92/100] clfr_loss: 0.0000 | test_acc: 0.9400\n",
      "[93/100] clfr_loss: 0.0001 | test_acc: 0.9300\n",
      "[94/100] clfr_loss: 0.0000 | test_acc: 0.9400\n",
      "[95/100] clfr_loss: 0.0001 | test_acc: 0.9400\n",
      "[96/100] clfr_loss: 0.0002 | test_acc: 0.9400\n",
      "[97/100] clfr_loss: 0.0000 | test_acc: 0.9400\n",
      "[98/100] clfr_loss: 0.0001 | test_acc: 0.9500\n",
      "[99/100] clfr_loss: 0.0001 | test_acc: 0.9400\n"
     ]
    }
   ],
   "source": [
    "for epoch in range(opt.nepoch):\n",
    "    for i in range(0, data.ntrain, opt.batch_size):\n",
    "\n",
    "        for p in source_clsfr.parameters():\n",
    "            p.requires_grad = True\n",
    "\n",
    "        sample()\n",
    "        source_clsfr.zero_grad()\n",
    "        input_featureV = Variable(input_feature).cuda()\n",
    "        input_labelV = Variable(input_label.long()).cuda()\n",
    "\n",
    "        logits = source_clsfr(input_featureV)\n",
    "        loss = cls_criterion(logits, input_labelV)\n",
    "        loss.backward()\n",
    "        optim_clfr.step()\n",
    "\n",
    "    source_clsfr.eval()\n",
    "    for p in source_clsfr.parameters():\n",
    "        p.requires_grad = False\n",
    "    test_logits = source_clsfr(data.test_subtom.cuda())\n",
    "    _, predicted = torch.max(test_logits, 1)\n",
    "    c = (predicted == data.test_label.cuda()).sum()\n",
    "    c = c.cpu().numpy()\n",
    "    acc = c / data.ntest\n",
    "\n",
    "    print('[%d/%d] clfr_loss: %.4f | test_acc: %.4f'% (epoch, opt.nepoch, loss.item(),acc))\n",
    "    source_clsfr.train()"
   ]
  },
  {
   "cell_type": "code",
   "execution_count": null,
   "metadata": {
    "cell_id": "63d6e3be-454b-4ab1-8334-1895790e8fb3",
    "tags": []
   },
   "outputs": [],
   "source": []
  }
 ],
 "metadata": {
  "deepnote_execution_queue": [],
  "deepnote_notebook_id": "4f452e62-9b37-49f4-a557-523488edc622",
  "kernelspec": {
   "display_name": "Python 3",
   "language": "python",
   "name": "python3"
  },
  "language_info": {
   "codemirror_mode": {
    "name": "ipython",
    "version": 3
   },
   "file_extension": ".py",
   "mimetype": "text/x-python",
   "name": "python",
   "nbconvert_exporter": "python",
   "pygments_lexer": "ipython3",
   "version": "3.6.9"
  }
 },
 "nbformat": 4,
 "nbformat_minor": 2
}
